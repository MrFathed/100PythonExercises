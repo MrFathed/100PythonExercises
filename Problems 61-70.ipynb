{
 "cells": [
  {
   "cell_type": "markdown",
   "metadata": {},
   "source": [
    "# Exercise 61\n",
    "Create a program that prints out *Hello* every two seconds."
   ]
  },
  {
   "cell_type": "code",
   "execution_count": 1,
   "metadata": {},
   "outputs": [],
   "source": [
    "#import time\n",
    "\n",
    "#while True:\n",
    "#    print(\"Hello\")\n",
    "#    time.sleep(2)"
   ]
  },
  {
   "cell_type": "markdown",
   "metadata": {},
   "source": [
    "# Exercise 62\n",
    "Create a program that once executed the program prints *Hello* instantly first, then it prints it after 1 second, then after 2, 3, 4, and so on the interval increases between prints."
   ]
  },
  {
   "cell_type": "code",
   "execution_count": 2,
   "metadata": {},
   "outputs": [],
   "source": [
    "#import time\n",
    "\n",
    "#i = 0\n",
    "#while True:\n",
    "#    i += 1\n",
    "#    print(\"Hello\")\n",
    "#    time.sleep(i)"
   ]
  },
  {
   "cell_type": "markdown",
   "metadata": {},
   "source": [
    "# Exercise 63\n",
    "Create a program that once executed the programs prints *Hello*  instantly first, then it prints it after 1 second, then after 2, 3, and then the program prints out the message \"End of the Loop\" and stops."
   ]
  },
  {
   "cell_type": "code",
   "execution_count": 3,
   "metadata": {},
   "outputs": [
    {
     "name": "stdout",
     "output_type": "stream",
     "text": [
      "Hello\n",
      "Hello\n",
      "Hello\n",
      "Hello\n",
      "End of the Loop\n"
     ]
    }
   ],
   "source": [
    "import time\n",
    "\n",
    "i = 0\n",
    "while i < 4:\n",
    "    print(\"Hello\")\n",
    "    i += 1\n",
    "    if i > 3:\n",
    "        print(\"End of the Loop\")\n",
    "        break\n",
    "    time.sleep(i)"
   ]
  },
  {
   "cell_type": "markdown",
   "metadata": {},
   "source": [
    "# Exercise 64\n",
    "The following code prints *Hello*, checks if 2 is greater than 1 and then breaks the loop because 2 is actually greater than 1. Therefore *Hi* is not printed out. Please replace break with something else so that *Hello* and *Hi* are printed repeatedly.\n",
    "+ while True:\n",
    "+ ----print(\"Hello\")\n",
    "+ ----if 2 > 1:\n",
    "+ --------break\n",
    "+ ----print(\"Hi\")"
   ]
  },
  {
   "cell_type": "code",
   "execution_count": 4,
   "metadata": {},
   "outputs": [],
   "source": [
    "#while True:\n",
    "#    print(\"Hello\")\n",
    "#    if 2 > 1:\n",
    "#        pass\n",
    "#    print(\"Hi\")"
   ]
  },
  {
   "cell_type": "markdown",
   "metadata": {},
   "source": [
    "# Exercise 65\n",
    "Use code from 64 so that it prints of *Hello* repeatedly"
   ]
  },
  {
   "cell_type": "code",
   "execution_count": 5,
   "metadata": {},
   "outputs": [],
   "source": [
    "#while True:\n",
    "#    print(\"Hello\")\n",
    "#    if 2 > 1:\n",
    "#        continue\n",
    "#    print(\"Hi\")"
   ]
  },
  {
   "cell_type": "markdown",
   "metadata": {},
   "source": [
    "# Exercise 66\n",
    "Create an English to Portuguese translation program.\n",
    "\n",
    "The program takes a word from the user as input and translates it using the following dictionary as a vocabulary source.\n",
    "+ d = dict(weather = \"clima\", earth = \"terra\", rain = \"chuva\")"
   ]
  },
  {
   "cell_type": "code",
   "execution_count": 6,
   "metadata": {},
   "outputs": [
    {
     "name": "stdout",
     "output_type": "stream",
     "text": [
      "Enter Word: weather\n",
      "clima\n"
     ]
    }
   ],
   "source": [
    "d = dict(weather = \"clima\", earth = \"terra\", rain = \"chuva\")\n",
    "\n",
    "word = input(\"Enter Word: \")\n",
    "print(d[word])"
   ]
  },
  {
   "cell_type": "markdown",
   "metadata": {},
   "source": [
    "# Exercise 67\n",
    "Create an English to Portuguese translation program.\n",
    "\n",
    "The program takes a word from the user as input and translates it using the following dictionary as a vocabulary source. In addition, try to return the message \"We couldn't find that word!\" when the user enters a word that is not in the dictionary.\n",
    "+ d = dict(weather = \"clima\", earth = \"terra\", rain = \"chuva\")"
   ]
  },
  {
   "cell_type": "code",
   "execution_count": 7,
   "metadata": {},
   "outputs": [
    {
     "name": "stdout",
     "output_type": "stream",
     "text": [
      "Enter word: hello\n",
      "We couldn't find that word\n"
     ]
    }
   ],
   "source": [
    "d = dict(weather = \"clima\", earth = \"terra\", rain = \"chuva\")\n",
    "\n",
    "def translater(word):\n",
    "    try:\n",
    "        return d[word]\n",
    "    except:\n",
    "        return \"We couldn't find that word\"\n",
    "    \n",
    "word = input(\"Enter word: \")\n",
    "print(translater(word))"
   ]
  },
  {
   "cell_type": "markdown",
   "metadata": {},
   "source": [
    "# Exercise 68\n",
    "Create an English to Portuguese translation program.\n",
    "\n",
    "The program takes a word from the user as input and translates it using the following dictionary as a vocabulary source. In addition, return the message \"We couldn't find that word!\" when the user enters a word that is not in the dictionary. Also, make the program non case-sensitive meaning that for example, both earth and Earth should return the translation correctly for that word.\n",
    "+ d = dict(weather = \"clima\", earth = \"terra\", rain = \"chuva\")"
   ]
  },
  {
   "cell_type": "code",
   "execution_count": 8,
   "metadata": {},
   "outputs": [
    {
     "name": "stdout",
     "output_type": "stream",
     "text": [
      "Enter word: Earth\n",
      "terra\n"
     ]
    }
   ],
   "source": [
    "d = dict(weather = \"clima\", earth = \"terra\", rain = \"chuva\")\n",
    "\n",
    "def translate(word):\n",
    "    word = word.lower()\n",
    "    try:\n",
    "        return d[word]\n",
    "    except:\n",
    "        return \"We couldn't find that word\"\n",
    "    \n",
    "word = input(\"Enter word: \")\n",
    "print(translate(word))"
   ]
  },
  {
   "cell_type": "markdown",
   "metadata": {},
   "source": [
    "# Exercise 69\n",
    "Please create an empty file (manually as you normally create Python files) and name it *requests.py* . Make sure the file has that name exactly.\n",
    "\n",
    "Executing the script will throw an error. Please fix something to make the program print out the expected output. You should not modify the code itself, but something else."
   ]
  },
  {
   "cell_type": "code",
   "execution_count": 9,
   "metadata": {},
   "outputs": [],
   "source": [
    "#import requests\n",
    " \n",
    "#headers = {'User-agent': 'Mozilla/5.0 (X11; Ubuntu; Linux x86_64; rv:61.0) Gecko/20100101 Firefox/61.0'}\n",
    "#r = requests.get(\"http://www.pythonhow.com\", headers = headers)\n",
    "#print(r.text[:100])"
   ]
  },
  {
   "cell_type": "markdown",
   "metadata": {},
   "source": [
    "# Exercise 70\n",
    "Print out the text of this file http://www.pythonhow.com/data/universe.txt. Please don't manually download the file. Let Python do all the work."
   ]
  },
  {
   "cell_type": "code",
   "execution_count": 13,
   "metadata": {},
   "outputs": [
    {
     "name": "stdout",
     "output_type": "stream",
     "text": [
      "Distant regions of space are assumed to exist and to be part of reality as much as we are, even though we can never interact with them. The spatial region that we can affect and be affected by is the observable universe. The observable universe depends on the location of the observer. By traveling, an observer can come into contact with a greater region of spacetime than an observer who remains still. Nevertheless, even the most rapid traveler will not be able to interact with all of space. Typically, the observable universe is taken to mean the portion of the Universe that is observable from our vantage point in the Milky Way.\n"
     ]
    }
   ],
   "source": [
    "import requests\n",
    "\n",
    "content = requests.get(\"http://www.pythonhow.com/data/universe.txt\", headers = {'user-agent': 'customUserAgent'})\n",
    "print(content.text)"
   ]
  },
  {
   "cell_type": "code",
   "execution_count": null,
   "metadata": {},
   "outputs": [],
   "source": []
  }
 ],
 "metadata": {
  "kernelspec": {
   "display_name": "Python 3",
   "language": "python",
   "name": "python3"
  },
  "language_info": {
   "codemirror_mode": {
    "name": "ipython",
    "version": 3
   },
   "file_extension": ".py",
   "mimetype": "text/x-python",
   "name": "python",
   "nbconvert_exporter": "python",
   "pygments_lexer": "ipython3",
   "version": "3.8.2"
  }
 },
 "nbformat": 4,
 "nbformat_minor": 2
}
