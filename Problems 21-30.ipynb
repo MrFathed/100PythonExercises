{
 "cells": [
  {
   "cell_type": "markdown",
   "metadata": {},
   "source": [
    "# Exercise 21\n",
    "Filter the dictionary by removing all items with a value greater than 1.\n",
    "+ d = {'a': 1, 'b': 2, 'c': 3}"
   ]
  },
  {
   "cell_type": "code",
   "execution_count": 1,
   "metadata": {},
   "outputs": [
    {
     "name": "stdout",
     "output_type": "stream",
     "text": [
      "{'a': 1}\n"
     ]
    }
   ],
   "source": [
    "d = {'a': 1, 'b': 2, 'c': 3}\n",
    "e = {}\n",
    "for key, value in d.items():\n",
    "    if value <= 1:\n",
    "        e[key] = value\n",
    "print(e)"
   ]
  },
  {
   "cell_type": "markdown",
   "metadata": {},
   "source": [
    "# Exercise 22\n",
    "Create a dictionary of keys *a*, *b*, *c* where each key has as a value a list from 1-10, 11-20, 21-30 respectively and print it out."
   ]
  },
  {
   "cell_type": "code",
   "execution_count": 2,
   "metadata": {},
   "outputs": [
    {
     "name": "stdout",
     "output_type": "stream",
     "text": [
      "{'a': [1, 2, 3, 4, 5, 6, 7, 8, 9, 10], 'b': [11, 12, 13, 14, 15, 16, 17, 18, 19, 20], 'c': [21, 22, 23, 24, 25, 26, 27, 28, 29, 30]}\n"
     ]
    }
   ],
   "source": [
    "d = {}\n",
    "d['a'] = list(range(1,11))\n",
    "d['b'] = list(range(11,21))\n",
    "d['c'] = list(range(21,31))\n",
    "print(d)"
   ]
  },
  {
   "cell_type": "markdown",
   "metadata": {},
   "source": [
    "# Exercise 23\n",
    "Access the third value of key *b* from the dictionary.\n",
    "+ d = dict(a = list(range(1, 11)), b = list(range(11, 21)), c = list(range(21, 31)))"
   ]
  },
  {
   "cell_type": "code",
   "execution_count": 3,
   "metadata": {},
   "outputs": [
    {
     "name": "stdout",
     "output_type": "stream",
     "text": [
      "13\n"
     ]
    }
   ],
   "source": [
    "d = dict(a = list(range(1, 11)), b = list(range(11, 21)), c = list(range(21, 31)))\n",
    "print(d['b'][2])"
   ]
  },
  {
   "cell_type": "markdown",
   "metadata": {},
   "source": [
    "# Exercise 24\n",
    "Please complete the script so that it prints out the expected output.\n",
    "+ d = dict(a = list(range(1, 11)), b = list(range(11, 21)), c = list(range(21, 31)))\n",
    "## Expected Output\n",
    "+ b has value [11, 12, 13, 14, 15, 16, 17, 18, 19, 20]\n",
    "+ c has value [21, 22, 23, 24, 25, 26, 27, 28, 29, 30]\n",
    "+ a has value [1, 2, 3, 4, 5, 6, 7, 8, 9, 10]"
   ]
  },
  {
   "cell_type": "code",
   "execution_count": 4,
   "metadata": {},
   "outputs": [
    {
     "name": "stdout",
     "output_type": "stream",
     "text": [
      "a has value [1, 2, 3, 4, 5, 6, 7, 8, 9, 10]\n",
      "b has value [11, 12, 13, 14, 15, 16, 17, 18, 19, 20]\n",
      "c has value [21, 22, 23, 24, 25, 26, 27, 28, 29, 30]\n"
     ]
    }
   ],
   "source": [
    "d = dict(a = list(range(1, 11)), b = list(range(11, 21)), c = list(range(21, 31)))\n",
    "for key, value in d.items():\n",
    "    print(\"{} has value {}\".format(key, value))"
   ]
  },
  {
   "cell_type": "markdown",
   "metadata": {},
   "source": [
    "# Exercise 25\n",
    "Make a script that prints out the letters of the English alphabet from a to z, one letter per line in the terminal."
   ]
  },
  {
   "cell_type": "code",
   "execution_count": 5,
   "metadata": {},
   "outputs": [
    {
     "name": "stdout",
     "output_type": "stream",
     "text": [
      "a\n",
      "b\n",
      "c\n",
      "d\n",
      "e\n",
      "f\n",
      "g\n",
      "h\n",
      "i\n",
      "j\n",
      "k\n",
      "l\n",
      "m\n",
      "n\n",
      "o\n",
      "p\n",
      "q\n",
      "r\n",
      "s\n",
      "t\n",
      "u\n",
      "v\n",
      "w\n",
      "x\n",
      "y\n",
      "z\n"
     ]
    }
   ],
   "source": [
    "import string\n",
    "\n",
    "for letter in string.ascii_lowercase:\n",
    "    print(letter)"
   ]
  },
  {
   "cell_type": "markdown",
   "metadata": {},
   "source": [
    "# Exercise 26\n",
    "Make a script that prints out numbers from 1 to 10, one number per line in the terminal."
   ]
  },
  {
   "cell_type": "code",
   "execution_count": 6,
   "metadata": {},
   "outputs": [
    {
     "name": "stdout",
     "output_type": "stream",
     "text": [
      "1\n",
      "2\n",
      "3\n",
      "4\n",
      "5\n",
      "6\n",
      "7\n",
      "8\n",
      "9\n",
      "10\n"
     ]
    }
   ],
   "source": [
    "for number in range(1,11):\n",
    "    print(number)"
   ]
  },
  {
   "cell_type": "markdown",
   "metadata": {},
   "source": [
    "# Exercise 27\n",
    "Create a function that calculates acceleration given initial velocity *v1*, final velocity *v2*, start time *t1*, and end time *t2. The formula for acceleration is:\n",
    "\n",
    "+ a = (v2 - v1) / (t2 - t1)\n",
    "\n",
    "To test your solution, call the function by inputting values 0,10,0,20 for v1, v2, t1, t2 respectively, and you shuld get the expected output.\n",
    "+ 0.5"
   ]
  },
  {
   "cell_type": "code",
   "execution_count": 7,
   "metadata": {},
   "outputs": [
    {
     "name": "stdout",
     "output_type": "stream",
     "text": [
      "0.5\n"
     ]
    }
   ],
   "source": [
    "def acceleration(v1, v2, t1, t2):\n",
    "    return (v2 - v1) / (t2 - t1)\n",
    "\n",
    "print(acceleration(0,10,0,20))"
   ]
  },
  {
   "cell_type": "markdown",
   "metadata": {},
   "source": [
    "# Exercise 28\n",
    "Why is there an error in the code and how would you fix it?\n",
    "+ def foo(a, b):\n",
    "+ ----print(a + b)\n",
    "+\n",
    "+ x = foo(2,3) * 18"
   ]
  },
  {
   "cell_type": "code",
   "execution_count": 8,
   "metadata": {},
   "outputs": [],
   "source": [
    "# foo doesn't return a value, so you get an error multiplying None and 18\n",
    "def foo(a, b):\n",
    "    return a + b\n",
    "\n",
    "x = foo(2, 3) * 18"
   ]
  },
  {
   "cell_type": "markdown",
   "metadata": {},
   "source": [
    "# Exercise 29\n",
    "Please write a function that calculates liquid volume in a sphere using the given formula. The radius *r* is always 10, so consider making it a default parameter. Print out the expected output with an *h* value of 2.\n",
    "## Expected Output\n",
    "+ 4071.5040790523717"
   ]
  },
  {
   "cell_type": "code",
   "execution_count": 9,
   "metadata": {},
   "outputs": [
    {
     "name": "stdout",
     "output_type": "stream",
     "text": [
      "4071.5040790523717\n"
     ]
    }
   ],
   "source": [
    "import math\n",
    "\n",
    "def area_of_sphere(h, r=10):\n",
    "    return ((4*math.pi*r**3)/3) - ((math.pi*h**2*(3*r-h)) / 3)\n",
    "\n",
    "print(area_of_sphere(2))"
   ]
  },
  {
   "cell_type": "markdown",
   "metadata": {},
   "source": [
    "# Exercise 30\n",
    "Why do you get an error and how would you fix it?\n",
    "+ def foo(a=2, b):\n",
    "+ ----return a + b"
   ]
  },
  {
   "cell_type": "code",
   "execution_count": 10,
   "metadata": {},
   "outputs": [],
   "source": [
    "# You get an error because you can not list a default parameter first\n",
    "def foo(b, a=2):\n",
    "    return a + b"
   ]
  },
  {
   "cell_type": "code",
   "execution_count": null,
   "metadata": {},
   "outputs": [],
   "source": []
  }
 ],
 "metadata": {
  "kernelspec": {
   "display_name": "Python 3",
   "language": "python",
   "name": "python3"
  },
  "language_info": {
   "codemirror_mode": {
    "name": "ipython",
    "version": 3
   },
   "file_extension": ".py",
   "mimetype": "text/x-python",
   "name": "python",
   "nbconvert_exporter": "python",
   "pygments_lexer": "ipython3",
   "version": "3.6.9"
  }
 },
 "nbformat": 4,
 "nbformat_minor": 2
}
