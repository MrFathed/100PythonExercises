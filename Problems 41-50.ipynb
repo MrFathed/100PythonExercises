{
 "cells": [
  {
   "cell_type": "markdown",
   "metadata": {},
   "source": [
    "# Exercise 41\n",
    "Create a script that generates a text file with all letters of the English alphabet inside it, one letter per line."
   ]
  },
  {
   "cell_type": "code",
   "execution_count": 1,
   "metadata": {},
   "outputs": [],
   "source": [
    "import string\n",
    "\n",
    "with open(\"letters.txt\", \"w\") as file:\n",
    "    for letter in string.ascii_lowercase:\n",
    "        file.write(letter + \"\\n\")"
   ]
  },
  {
   "cell_type": "markdown",
   "metadata": {},
   "source": [
    "# Exercise 42\n",
    "Print out in each one the sum of homologous items of the two sequences.\n",
    "+ a = [1,2,3]\n",
    "+ b = (4,5,6)"
   ]
  },
  {
   "cell_type": "code",
   "execution_count": 2,
   "metadata": {},
   "outputs": [
    {
     "name": "stdout",
     "output_type": "stream",
     "text": [
      "5\n",
      "7\n",
      "9\n"
     ]
    }
   ],
   "source": [
    "a = [1,2,3]\n",
    "b = (4,5,6)\n",
    "\n",
    "for i,j in zip(a, b):\n",
    "    print(i + j)"
   ]
  },
  {
   "cell_type": "markdown",
   "metadata": {},
   "source": [
    "# Exercise 43\n",
    "Create a script that generates a file where all letters of the English alphabet are listed two in each line. The inside of the text file would look like:\n",
    "+ ab\n",
    "+ cd\n",
    "+ ef\n",
    "etc....."
   ]
  },
  {
   "cell_type": "code",
   "execution_count": 3,
   "metadata": {},
   "outputs": [],
   "source": [
    "import string\n",
    "\n",
    "letters = string.ascii_lowercase\n",
    "\n",
    "with open(\"letters2.txt\", \"w\") as file:\n",
    "    for i in range(0,26,2):\n",
    "        file.write(\"{}{}\\n\".format(letters[i], letters[i+1]))"
   ]
  },
  {
   "cell_type": "markdown",
   "metadata": {},
   "source": [
    "# Exercise 44\n",
    "Create a script that generates a file where all letters of the English alphabet are listed three in each line."
   ]
  },
  {
   "cell_type": "code",
   "execution_count": 4,
   "metadata": {},
   "outputs": [],
   "source": [
    "import string\n",
    "\n",
    "letters = string.ascii_lowercase\n",
    "\n",
    "with open(\"Letters3.txt\", \"w\") as file:\n",
    "    while len(letters) > 3:\n",
    "        write_string = letters[:3]\n",
    "        letters = letters[3:]\n",
    "        file.write(write_string + \"\\n\")\n",
    "    file.write(letters)"
   ]
  },
  {
   "cell_type": "markdown",
   "metadata": {},
   "source": [
    "# Exercise 45\n",
    "Please create a script that generates 26 text file name *a.txt*, *b.txt*, etc.... Each file should contain a letter reflecting its filename. So for example *a.txt* will contain the letter *a*."
   ]
  },
  {
   "cell_type": "code",
   "execution_count": 5,
   "metadata": {},
   "outputs": [],
   "source": [
    "import string\n",
    "\n",
    "for letter in string.ascii_lowercase:\n",
    "    file_name = letter + \".txt\"\n",
    "    with open(file_name, \"w\") as file:\n",
    "        file.write(letter)"
   ]
  },
  {
   "cell_type": "markdown",
   "metadata": {},
   "source": [
    "# Exercise 46\n",
    "Please write a script that extracts the letters form the previous 26 text files and put the letters in a list."
   ]
  },
  {
   "cell_type": "code",
   "execution_count": 6,
   "metadata": {},
   "outputs": [
    {
     "name": "stdout",
     "output_type": "stream",
     "text": [
      "['a', 'b', 'c', 'd', 'e', 'f', 'g', 'h', 'i', 'j', 'k', 'l', 'm', 'n', 'o', 'p', 'q', 'r', 's', 't', 'u', 'v', 'w', 'x', 'y', 'z']\n"
     ]
    }
   ],
   "source": [
    "import string\n",
    "\n",
    "result = []\n",
    "\n",
    "for letter in string.ascii_lowercase:\n",
    "    file_name = letter + \".txt\"\n",
    "    with open(file_name) as file:\n",
    "        content = file.read()\n",
    "        result.append(content)\n",
    "        \n",
    "print(result)\n",
    "        "
   ]
  },
  {
   "cell_type": "markdown",
   "metadata": {},
   "source": [
    "# Exercise 47\n",
    "Write a script that iterates through each of the 26 text files. If the letter inside the thext file is in string \"python\", add it to a list."
   ]
  },
  {
   "cell_type": "code",
   "execution_count": 7,
   "metadata": {},
   "outputs": [
    {
     "name": "stdout",
     "output_type": "stream",
     "text": [
      "['h', 'n', 'o', 'p', 't', 'y']\n"
     ]
    }
   ],
   "source": [
    "import string\n",
    "\n",
    "result = []\n",
    "\n",
    "for letter in string.ascii_lowercase:\n",
    "    filename = letter + \".txt\"\n",
    "    with open(filename) as file:\n",
    "        content = file.read()\n",
    "        if content in \"python\":\n",
    "            result.append(content)\n",
    "            \n",
    "print(result)"
   ]
  },
  {
   "cell_type": "markdown",
   "metadata": {},
   "source": [
    "# Exercise 48\n",
    "The script is supposed to print out letter \"e\" if the letter is in string \"Hello\", but it doesn't. Please try to fic the script.\n",
    "+ for letter in \"Hello\":\n",
    "+ ----if letter == \"e\":\n",
    "+ ----print(letter)"
   ]
  },
  {
   "cell_type": "code",
   "execution_count": 8,
   "metadata": {},
   "outputs": [
    {
     "name": "stdout",
     "output_type": "stream",
     "text": [
      "e\n"
     ]
    }
   ],
   "source": [
    "for letter in \"Hello\":\n",
    "    if letter == \"e\":\n",
    "        print(letter)"
   ]
  },
  {
   "cell_type": "markdown",
   "metadata": {},
   "source": [
    "# Exercise 49\n",
    "The code is supposed to get some input from the user, but instead it produces an error. Please try to understand the error and then fix it.\n",
    "+ pass = input(\"Please enter your password: \")"
   ]
  },
  {
   "cell_type": "code",
   "execution_count": 9,
   "metadata": {},
   "outputs": [
    {
     "name": "stdout",
     "output_type": "stream",
     "text": [
      "Please enter your password: 123451324\n"
     ]
    }
   ],
   "source": [
    "# Pass is a reserved word\n",
    "\n",
    "password = input(\"Please enter your password: \")"
   ]
  },
  {
   "cell_type": "markdown",
   "metadata": {},
   "source": [
    "# Exercise 50\n",
    "THe code produces an error. Please understand the error and try to fix it.\n",
    "+ age = input(\"What's your age? \")\n",
    "+ age_last_year = age - 1\n",
    "+ print(\"Last year you were %s.\" % age_last_year)"
   ]
  },
  {
   "cell_type": "code",
   "execution_count": 10,
   "metadata": {},
   "outputs": [
    {
     "name": "stdout",
     "output_type": "stream",
     "text": [
      "What's your age? 20\n",
      "Last year you were 19.\n"
     ]
    }
   ],
   "source": [
    "# It doesn't convert age to an int, so line 2 will produce an error\n",
    "\n",
    "age = int(input(\"What's your age? \"))\n",
    "age_last_year = age - 1\n",
    "print(\"Last year you were %s.\" % age_last_year)"
   ]
  },
  {
   "cell_type": "code",
   "execution_count": null,
   "metadata": {},
   "outputs": [],
   "source": []
  }
 ],
 "metadata": {
  "kernelspec": {
   "display_name": "Python 3",
   "language": "python",
   "name": "python3"
  },
  "language_info": {
   "codemirror_mode": {
    "name": "ipython",
    "version": 3
   },
   "file_extension": ".py",
   "mimetype": "text/x-python",
   "name": "python",
   "nbconvert_exporter": "python",
   "pygments_lexer": "ipython3",
   "version": "3.8.2"
  }
 },
 "nbformat": 4,
 "nbformat_minor": 2
}
