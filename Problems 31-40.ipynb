{
 "cells": [
  {
   "cell_type": "markdown",
   "metadata": {},
   "source": [
    "# Exercise 31\n",
    "Why is there an error in the code and how would you fix it?\n",
    "+ def foo(a=1, b=2):\n",
    "+ ----return a + b\n",
    "+\n",
    "+ x = foo - 1"
   ]
  },
  {
   "cell_type": "code",
   "execution_count": 1,
   "metadata": {},
   "outputs": [],
   "source": [
    "# When calling foo in line 4, you didn't use parantheses, so the value is a funtion, \n",
    "# not the integer returned by foo.\n",
    "def foo(a=1, b=2):\n",
    "    return a + b\n",
    "\n",
    "x = foo() - 1"
   ]
  },
  {
   "cell_type": "markdown",
   "metadata": {},
   "source": [
    "# Exercise 32\n",
    "What will the following script output? Please try to do this mentally if you can.\n",
    "+ c = 1\n",
    "+ def foo():\n",
    "+ ----return c\n",
    "+ c = 3\n",
    "+ print(foo())"
   ]
  },
  {
   "cell_type": "code",
   "execution_count": 2,
   "metadata": {},
   "outputs": [
    {
     "name": "stdout",
     "output_type": "stream",
     "text": [
      "3\n"
     ]
    }
   ],
   "source": [
    "# 3\n",
    "c = 1\n",
    "def foo():\n",
    "    return c\n",
    "c = 3\n",
    "print(foo())"
   ]
  },
  {
   "cell_type": "markdown",
   "metadata": {},
   "source": [
    "# Exercise 33\n",
    "Here's another similar exercise. What will the following script output? Try to do this mentally if you can.\n",
    "+ c = 1\n",
    "+ def foo():\n",
    "+ ----c = 2\n",
    "+ ----return c\n",
    "+ c = 3\n",
    "+ print(foo())"
   ]
  },
  {
   "cell_type": "code",
   "execution_count": 3,
   "metadata": {},
   "outputs": [
    {
     "name": "stdout",
     "output_type": "stream",
     "text": [
      "2\n"
     ]
    }
   ],
   "source": [
    "# 2\n",
    "c = 1\n",
    "def foo():\n",
    "    c = 2\n",
    "    return c\n",
    "c = 3\n",
    "print(foo())"
   ]
  },
  {
   "cell_type": "markdown",
   "metadata": {},
   "source": [
    "# Exercise 34\n",
    "The following script throws a *NameError* in the last line saying that *c* is not defined. Please fix the funciton so that there is no error and the last line is able to print out the value of *c* = 1.\n",
    "+ def foo():\n",
    "+ ----c = 1\n",
    "+ ----return c\n",
    "+ foo()\n",
    "+ print(c)"
   ]
  },
  {
   "cell_type": "code",
   "execution_count": 4,
   "metadata": {},
   "outputs": [
    {
     "name": "stdout",
     "output_type": "stream",
     "text": [
      "1\n"
     ]
    }
   ],
   "source": [
    "def foo():\n",
    "    global c\n",
    "    c = 1\n",
    "    return c\n",
    "foo()\n",
    "print(c)"
   ]
  },
  {
   "cell_type": "markdown",
   "metadata": {},
   "source": [
    "# Exercise 35\n",
    "Create a function that takes any string as input and returns the number fo words for that string."
   ]
  },
  {
   "cell_type": "code",
   "execution_count": 5,
   "metadata": {},
   "outputs": [],
   "source": [
    "def number_of_words(string):\n",
    "    word_list = string.split()\n",
    "    return len(word_list)"
   ]
  },
  {
   "cell_type": "markdown",
   "metadata": {},
   "source": [
    "# Exercise 36\n",
    "Please download the words1.txt file from the attachment and then create a Python function that takes a text file as input and returns the number of words contained in the text file.\n",
    "## Expected Output\n",
    "+ 10"
   ]
  },
  {
   "cell_type": "code",
   "execution_count": 6,
   "metadata": {},
   "outputs": [
    {
     "name": "stdout",
     "output_type": "stream",
     "text": [
      "10\n"
     ]
    }
   ],
   "source": [
    "def word_count(file):\n",
    "    with open(file) as temp_file:\n",
    "        words = temp_file.read()\n",
    "    return len(words.split())\n",
    "\n",
    "print(word_count(\"words1.txt\"))"
   ]
  },
  {
   "cell_type": "markdown",
   "metadata": {},
   "source": [
    "# Exercise 37\n",
    "Create a function that takes a text file as input and returns the number of words contained in the text file. Please take into consideration that some words can be separated by a comma with no space. For example \"Hi,it's me.\" would need to be counted as three words. For your convenience, you can use the text file \"words2.txt\" attached.\n",
    "## Expected Output\n",
    "+ 10"
   ]
  },
  {
   "cell_type": "code",
   "execution_count": 7,
   "metadata": {},
   "outputs": [
    {
     "name": "stdout",
     "output_type": "stream",
     "text": [
      "10\n"
     ]
    }
   ],
   "source": [
    "def word_count2(file):\n",
    "    with open(file) as temp_file:\n",
    "        words = temp_file.read()\n",
    "    results = []\n",
    "    for word in words.split():\n",
    "        results += word.split(',')\n",
    "    return len(results)\n",
    "\n",
    "print(word_count2(\"words2.txt\"))"
   ]
  },
  {
   "cell_type": "markdown",
   "metadata": {},
   "source": [
    "# Exercise 38\n",
    "The following code is supposed to print out the square root of 9, but it throws and error instead because another line before that is missing. Please fix the script so that it prints out the square root of 9.\n",
    "+ math.sqrt(9)\n",
    "## Expected Output\n",
    "+ 3"
   ]
  },
  {
   "cell_type": "code",
   "execution_count": 8,
   "metadata": {},
   "outputs": [
    {
     "data": {
      "text/plain": [
       "3.0"
      ]
     },
     "execution_count": 8,
     "metadata": {},
     "output_type": "execute_result"
    }
   ],
   "source": [
    "import math\n",
    "math.sqrt(9)"
   ]
  },
  {
   "cell_type": "markdown",
   "metadata": {},
   "source": [
    "# Exercise 39\n",
    "The script is supposed to output the cosine of and 1 radian, but instead it is throwing and error. Please fix the code so that it prints out the expected output.\n",
    "+ import math\n",
    "+ print(math.cosine(1))\n",
    "## Expected Output\n",
    "+ 0.5403023058681397"
   ]
  },
  {
   "cell_type": "code",
   "execution_count": 9,
   "metadata": {},
   "outputs": [
    {
     "name": "stdout",
     "output_type": "stream",
     "text": [
      "0.5403023058681398\n"
     ]
    }
   ],
   "source": [
    "import math\n",
    "print(math.cos(1))"
   ]
  },
  {
   "cell_type": "markdown",
   "metadata": {},
   "source": [
    "# Exercise 40\n",
    "Please try to guess what is missing in the following code and add the missing part so that the code works fine.\n",
    "+ import math\n",
    "+ print(math.pow(2))"
   ]
  },
  {
   "cell_type": "code",
   "execution_count": 10,
   "metadata": {},
   "outputs": [
    {
     "name": "stdout",
     "output_type": "stream",
     "text": [
      "4.0\n"
     ]
    }
   ],
   "source": [
    "import math\n",
    "print(math.pow(2,2))"
   ]
  },
  {
   "cell_type": "code",
   "execution_count": null,
   "metadata": {},
   "outputs": [],
   "source": []
  }
 ],
 "metadata": {
  "kernelspec": {
   "display_name": "Python 3",
   "language": "python",
   "name": "python3"
  },
  "language_info": {
   "codemirror_mode": {
    "name": "ipython",
    "version": 3
   },
   "file_extension": ".py",
   "mimetype": "text/x-python",
   "name": "python",
   "nbconvert_exporter": "python",
   "pygments_lexer": "ipython3",
   "version": "3.6.9"
  }
 },
 "nbformat": 4,
 "nbformat_minor": 2
}
